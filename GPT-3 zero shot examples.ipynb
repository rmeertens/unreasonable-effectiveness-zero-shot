{
 "cells": [
  {
   "cell_type": "code",
   "execution_count": 1,
   "metadata": {},
   "outputs": [],
   "source": [
    "import json\n",
    "import openai\n",
    "\n",
    "# Note: before running this, set the API key on your computer using: \n",
    "# export OPENAI_API_KEY='sk-...'\n",
    "# You can find your key here: https://beta.openai.com/account/api-keys\n",
    "openai.api_key = 'sk-'\n",
    "\n",
    "def get_language(sentence): \n",
    "    prompt = \"\"\"This is a program which determines the langauge song lyrics are written in\n",
    "\n",
    "    Lyric: {}\n",
    "    Language:\"\"\".format(sentence)\n",
    "\n",
    "    response = openai.Completion.create(\n",
    "                  engine=\"davinci\",\n",
    "                  prompt=prompt,\n",
    "                  temperature=0.3,\n",
    "                  stop=[\"\\n\"]\n",
    "                )\n",
    "    answer = response['choices'][0]['text']\n",
    "    return answer.strip()"
   ]
  },
  {
   "cell_type": "code",
   "execution_count": 2,
   "metadata": {},
   "outputs": [
    {
     "data": {
      "text/plain": [
       "'English'"
      ]
     },
     "execution_count": 2,
     "metadata": {},
     "output_type": "execute_result"
    }
   ],
   "source": [
    "get_language(\"I'm in love with the shape of you\")"
   ]
  },
  {
   "cell_type": "code",
   "execution_count": 3,
   "metadata": {},
   "outputs": [
    {
     "data": {
      "text/plain": [
       "'French'"
      ]
     },
     "execution_count": 3,
     "metadata": {},
     "output_type": "execute_result"
    }
   ],
   "source": [
    "get_language(\"Alors on dance\")"
   ]
  },
  {
   "cell_type": "code",
   "execution_count": 4,
   "metadata": {},
   "outputs": [
    {
     "data": {
      "text/plain": [
       "'German'"
      ]
     },
     "execution_count": 4,
     "metadata": {},
     "output_type": "execute_result"
    }
   ],
   "source": [
    "get_language(\"Neunundneunzig Luftballons\")"
   ]
  },
  {
   "cell_type": "code",
   "execution_count": 5,
   "metadata": {},
   "outputs": [],
   "source": [
    "def get_improved_grammar(sentence): \n",
    "    prompt = \"\"\"This is a program which corrects English grammar\n",
    "Poor English input: I eated the purple berries. \n",
    "Good English output: I ate the purple berries.\n",
    "Poor English input: {} \n",
    "Good English output:\"\"\".format(sentence)\n",
    "\n",
    "    response = openai.Completion.create(\n",
    "                  engine=\"davinci\",\n",
    "                  prompt=prompt,\n",
    "                  temperature=0.3,\n",
    "                  max_tokens=64,\n",
    "                  top_p=1,\n",
    "                  frequency_penalty=0.68,\n",
    "                  presence_penalty=0.7,\n",
    "                  stop=[\"\\n\"]\n",
    "                )\n",
    "    answer = response['choices'][0]['text']\n",
    "    return answer.strip()"
   ]
  },
  {
   "cell_type": "code",
   "execution_count": 6,
   "metadata": {},
   "outputs": [
    {
     "data": {
      "text/plain": [
       "'The patient died'"
      ]
     },
     "execution_count": 6,
     "metadata": {},
     "output_type": "execute_result"
    }
   ],
   "source": [
    "get_improved_grammar(\"The patient was died\")"
   ]
  },
  {
   "cell_type": "code",
   "execution_count": 7,
   "metadata": {},
   "outputs": [
    {
     "data": {
      "text/plain": [
       "'I rode my bike.'"
      ]
     },
     "execution_count": 7,
     "metadata": {},
     "output_type": "execute_result"
    }
   ],
   "source": [
    "get_improved_grammar(\"I roded my bykyle\")"
   ]
  }
 ],
 "metadata": {
  "kernelspec": {
   "display_name": "py39",
   "language": "python",
   "name": "py39"
  },
  "language_info": {
   "codemirror_mode": {
    "name": "ipython",
    "version": 3
   },
   "file_extension": ".py",
   "mimetype": "text/x-python",
   "name": "python",
   "nbconvert_exporter": "python",
   "pygments_lexer": "ipython3",
   "version": "3.9.1"
  }
 },
 "nbformat": 4,
 "nbformat_minor": 4
}
